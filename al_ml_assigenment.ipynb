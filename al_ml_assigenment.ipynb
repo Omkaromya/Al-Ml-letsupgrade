{
  "nbformat": 4,
  "nbformat_minor": 0,
  "metadata": {
    "colab": {
      "name": "al/ml assigenment",
      "provenance": []
    },
    "kernelspec": {
      "name": "python3",
      "display_name": "Python 3"
    }
  },
  "cells": [
    {
      "cell_type": "code",
      "metadata": {
        "id": "AkYi4rs5RCMb",
        "colab_type": "code",
        "colab": {
          "base_uri": "https://localhost:8080/",
          "height": 34
        },
        "outputId": "7171b97e-3455-4a95-b1b1-9fe7555db074"
      },
      "source": [
        "inputs = [1, 2, 4, 6, 3, 7, 8]\n",
        "str(inputs)\n",
        "\n",
        "res=[els for els in range(max(inputs)+1) if els not in inputs]\n",
        "print(str(res))"
      ],
      "execution_count": 1,
      "outputs": [
        {
          "output_type": "stream",
          "text": [
            "[0, 5]\n"
          ],
          "name": "stdout"
        }
      ]
    },
    {
      "cell_type": "code",
      "metadata": {
        "id": "ZdluxGvsS6FR",
        "colab_type": "code",
        "colab": {
          "base_uri": "https://localhost:8080/",
          "height": 129
        },
        "outputId": "f8de3b58-2c08-42e9-b64a-3033934e07d0"
      },
      "source": [
        "a =[1, 2, 2, 1, 3, 5, 67, 4, 3, 6,7]\n",
        "sort = a.sort()\n",
        "# print(a)\n",
        "lists =[]\n",
        "for element in a:\n",
        "  if element == element:\n",
        "  a.remove(element)\n",
        "  print(a)"
      ],
      "execution_count": 4,
      "outputs": [
        {
          "output_type": "error",
          "ename": "IndentationError",
          "evalue": "ignored",
          "traceback": [
            "\u001b[0;36m  File \u001b[0;32m\"<ipython-input-4-89ff3bf843e5>\"\u001b[0;36m, line \u001b[0;32m7\u001b[0m\n\u001b[0;31m    a.remove(element)\u001b[0m\n\u001b[0m    ^\u001b[0m\n\u001b[0;31mIndentationError\u001b[0m\u001b[0;31m:\u001b[0m expected an indented block\n"
          ]
        }
      ]
    }
  ]
}